{
 "cells": [
  {
   "cell_type": "code",
   "execution_count": null,
   "metadata": {
    "colab": {
     "base_uri": "https://localhost:8080/"
    },
    "id": "3wRkcj6MaD8o",
    "outputId": "db53cb98-31a1-4946-97ba-4dd73c6c7c14"
   },
   "outputs": [
    {
     "name": "stdout",
     "output_type": "stream",
     "text": [
      "TensorFlow version: 2.9.2\n"
     ]
    }
   ],
   "source": [
    "import numpy as np\n",
    "import matplotlib.pyplot as plt\n",
    "import keras\n",
    "import tensorflow as tf\n",
    "print(\"TensorFlow version:\", tf.__version__)"
   ]
  },
  {
   "cell_type": "code",
   "execution_count": null,
   "metadata": {
    "colab": {
     "base_uri": "https://localhost:8080/"
    },
    "id": "UXU2gBTsdnb2",
    "outputId": "1981a1b0-66f1-4996-dfdb-57f9ced8f413"
   },
   "outputs": [
    {
     "name": "stderr",
     "output_type": "stream",
     "text": [
      "<ipython-input-51-1e1ffe346486>:14: DeprecationWarning: The binary mode of fromstring is deprecated, as it behaves surprisingly on unicode inputs. Use frombuffer instead\n",
      "  label = np.fromstring(flbl.read(), dtype=np.int8)\n",
      "<ipython-input-51-1e1ffe346486>:17: DeprecationWarning: The binary mode of fromstring is deprecated, as it behaves surprisingly on unicode inputs. Use frombuffer instead\n",
      "  image = np.fromstring(fimg.read(), dtype=np.uint8).reshape(len(label), rows, cols)\n"
     ]
    }
   ],
   "source": [
    "import os\n",
    "import urllib\n",
    "import gzip\n",
    "import struct\n",
    "def download_data(url, force_download=True): \n",
    "    fname = url.split(\"/\")[-1]\n",
    "    if force_download or not os.path.exists(fname):\n",
    "        urllib.request.urlretrieve(url, fname)\n",
    "    return fname\n",
    "\n",
    "def read_data(label_url, image_url):\n",
    "    with gzip.open(download_data(label_url)) as flbl:\n",
    "        magic, num = struct.unpack(\">II\", flbl.read(8))\n",
    "        label = np.fromstring(flbl.read(), dtype=np.int8)\n",
    "    with gzip.open(download_data(image_url), 'rb') as fimg:\n",
    "        magic, num, rows, cols = struct.unpack(\">IIII\", fimg.read(16))\n",
    "        image = np.fromstring(fimg.read(), dtype=np.uint8).reshape(len(label), rows, cols)\n",
    "    return (label, image)\n",
    "\n",
    "path='http://yann.lecun.com/exdb/mnist/'\n",
    "(train_lbl, train_img) = read_data(\n",
    "    path+'train-labels-idx1-ubyte.gz', path+'train-images-idx3-ubyte.gz')\n",
    "(val_lbl, val_img) = read_data(\n",
    "    path+'t10k-labels-idx1-ubyte.gz', path+'t10k-images-idx3-ubyte.gz')"
   ]
  },
  {
   "cell_type": "code",
   "execution_count": null,
   "metadata": {
    "id": "SyrD295Ud91g"
   },
   "outputs": [],
   "source": [
    "mnist = tf.keras.datasets.mnist\n",
    "path='./mnist.npz'\n",
    "(x_train, y_train), (x_test, y_test) = mnist.load_data(path)\n",
    "x_train, x_test = x_train / 255.0, x_test / 255.0"
   ]
  },
  {
   "cell_type": "code",
   "execution_count": null,
   "metadata": {
    "colab": {
     "base_uri": "https://localhost:8080/"
    },
    "id": "C7NRozfoewhr",
    "outputId": "bb9fb5bf-be1f-48a4-804c-65a8cda05b6d"
   },
   "outputs": [
    {
     "name": "stdout",
     "output_type": "stream",
     "text": [
      "(60000, 28, 28)\n",
      "(10000, 28, 28)\n"
     ]
    }
   ],
   "source": [
    "print(x_train.shape)\n",
    "print(x_test.shape)"
   ]
  },
  {
   "cell_type": "code",
   "execution_count": null,
   "metadata": {
    "id": "LPx_apCzhZ2l"
   },
   "outputs": [],
   "source": [
    "%matplotlib inline\n",
    "from keras.layers import Input,Conv2D,MaxPooling2D,UpSampling2D\n",
    "from keras.models import Model\n",
    "from keras.optimizers import RMSprop"
   ]
  },
  {
   "cell_type": "code",
   "execution_count": null,
   "metadata": {
    "colab": {
     "base_uri": "https://localhost:8080/",
     "height": 125
    },
    "id": "pbZYhkQ17vFn",
    "outputId": "e817cc5d-b989-447d-a2cf-905213593f92"
   },
   "outputs": [
    {
     "data": {
      "image/png": "[encoded data removed]",
      "text/plain": [
       "<Figure size 1440x288 with 10 Axes>"
      ]
     },
     "metadata": {
      "needs_background": "light"
     },
     "output_type": "display_data"
    }
   ],
   "source": [
    "plt.figure(figsize=(20,4))\n",
    "for i in range(10):\n",
    "    plt.subplot(2,10,i+1)\n",
    "    plt.imshow(x_test[i].reshape(28,28), cmap='Greys_r')\n",
    "    plt.axis('off')\n",
    "plt.show()"
   ]
  },
  {
   "cell_type": "code",
   "execution_count": null,
   "metadata": {
    "id": "-0xZxSbgkC8k"
   },
   "outputs": [],
   "source": [
    "input_img = tf.keras.Input(shape=(28,28,))"
   ]
  },
  {
   "cell_type": "code",
   "execution_count": null,
   "metadata": {
    "id": "vslf4Ndk9opD"
   },
   "outputs": [],
   "source": [
    "from keras.layers.serialization import activation\n",
    "\n",
    "\n",
    "autoencoder = tf.keras.models.Sequential([\n",
    "  tf.keras.layers.Flatten(input_shape=(28, 28)),\n",
    "  tf.keras.layers.Reshape((np.prod(x_train.shape[1:]),)),\n",
    "  tf.keras.layers.Dense(128, activation='relu' , input_shape=(784,)),\n",
    "  tf.keras.layers.Dense(32, activation='relu'),\n",
    "\n",
    "  tf.keras.layers.Dense(128, activation='relu'),\n",
    "  tf.keras.layers.Dense(784, activation='sigmoid'),\n",
    "  tf.keras.layers.Reshape((28,28)),\n",
    "\n",
    "])"
   ]
  },
  {
   "cell_type": "code",
   "execution_count": null,
   "metadata": {
    "colab": {
     "base_uri": "https://localhost:8080/"
    },
    "id": "ZXBYf15TCx6W",
    "outputId": "2048216f-2f0e-44a7-e0c5-b4106712d35f"
   },
   "outputs": [
    {
     "name": "stdout",
     "output_type": "stream",
     "text": [
      "Model: \"sequential_19\"\n",
      "_________________________________________________________________\n",
      " Layer (type)                Output Shape              Param #   \n",
      "=================================================================\n",
      " flatten_10 (Flatten)        (None, 784)               0         \n",
      "                                                                 \n",
      " reshape_36 (Reshape)        (None, 784)               0         \n",
      "                                                                 \n",
      " dense_89 (Dense)            (None, 128)               100480    \n",
      "                                                                 \n",
      " dense_90 (Dense)            (None, 32)                4128      \n",
      "                                                                 \n",
      " dense_91 (Dense)            (None, 128)               4224      \n",
      "                                                                 \n",
      " dense_92 (Dense)            (None, 784)               101136    \n",
      "                                                                 \n",
      " reshape_37 (Reshape)        (None, 28, 28)            0         \n",
      "                                                                 \n",
      "=================================================================\n",
      "Total params: 209,968\n",
      "Trainable params: 209,968\n",
      "Non-trainable params: 0\n",
      "_________________________________________________________________\n"
     ]
    }
   ],
   "source": [
    "autoencoder.summary()"
   ]
  },
  {
   "cell_type": "code",
   "execution_count": null,
   "metadata": {
    "id": "hta6ZS_wm3Oi"
   },
   "outputs": [],
   "source": [
    "autoencoder.compile(optimizer='adam',loss='binary_crossentropy')"
   ]
  },
  {
   "cell_type": "code",
   "execution_count": null,
   "metadata": {
    "colab": {
     "base_uri": "https://localhost:8080/"
    },
    "id": "zKrO2NVbnzv3",
    "outputId": "d4f6162d-90f8-40c4-862d-634b5c7949ec"
   },
   "outputs": [
    {
     "name": "stdout",
     "output_type": "stream",
     "text": [
      "Epoch 1/10\n",
      "77/77 [==============================] - 4s 50ms/step - loss: 0.3260 - val_loss: 0.2257\n",
      "Epoch 2/10\n",
      "77/77 [==============================] - 4s 46ms/step - loss: 0.1952 - val_loss: 0.1706\n",
      "Epoch 3/10\n",
      "77/77 [==============================] - 4s 46ms/step - loss: 0.1588 - val_loss: 0.1459\n",
      "Epoch 4/10\n",
      "77/77 [==============================] - 3s 45ms/step - loss: 0.1396 - val_loss: 0.1313\n",
      "Epoch 5/10\n",
      "77/77 [==============================] - 3s 45ms/step - loss: 0.1286 - val_loss: 0.1231\n",
      "Epoch 6/10\n",
      "77/77 [==============================] - 4s 46ms/step - loss: 0.1219 - val_loss: 0.1176\n",
      "Epoch 7/10\n",
      "77/77 [==============================] - 4s 46ms/step - loss: 0.1173 - val_loss: 0.1136\n",
      "Epoch 8/10\n",
      "77/77 [==============================] - 3s 45ms/step - loss: 0.1135 - val_loss: 0.1100\n",
      "Epoch 9/10\n",
      "77/77 [==============================] - 3s 45ms/step - loss: 0.1102 - val_loss: 0.1077\n",
      "Epoch 10/10\n",
      "77/77 [==============================] - 4s 46ms/step - loss: 0.1079 - val_loss: 0.1054\n"
     ]
    }
   ],
   "source": [
    "autoencoder_train =autoencoder.fit(x_train, x_train, \n",
    "                epochs=10,\n",
    "                batch_size=784,\n",
    "                shuffle=True, \n",
    "                validation_data=(x_test , x_test))"
   ]
  },
  {
   "cell_type": "code",
   "execution_count": null,
   "metadata": {
    "colab": {
     "base_uri": "https://localhost:8080/"
    },
    "id": "4lpHRIthqL_9",
    "outputId": "e184bc5d-b6e4-4bb9-9492-2e1664a2441c"
   },
   "outputs": [
    {
     "name": "stdout",
     "output_type": "stream",
     "text": [
      "313/313 [==============================] - 1s 2ms/step\n"
     ]
    }
   ],
   "source": [
    "pred = autoencoder.predict(x_test)"
   ]
  },
  {
   "cell_type": "code",
   "execution_count": null,
   "metadata": {
    "colab": {
     "base_uri": "https://localhost:8080/",
     "height": 125
    },
    "id": "pIdWsgSxswBj",
    "outputId": "b0793a62-6148-4cd0-b1ec-112decd8438f"
   },
   "outputs": [
    {
     "data": {
      "image/png": "[encoded data removed]",
      "text/plain": [
       "<Figure size 1440x288 with 10 Axes>"
      ]
     },
     "metadata": {
      "needs_background": "light"
     },
     "output_type": "display_data"
    }
   ],
   "source": [
    "plt.figure(figsize=(20,4))\n",
    "for i in range(10):\n",
    "    plt.subplot(2,10,i+1)\n",
    "    plt.imshow(x_test[i].reshape(28,28), cmap='Greys_r')\n",
    "    plt.axis('off')\n",
    "plt.show()"
   ]
  },
  {
   "cell_type": "code",
   "execution_count": null,
   "metadata": {
    "colab": {
     "base_uri": "https://localhost:8080/",
     "height": 125
    },
    "id": "bqZ1kmGOtkKJ",
    "outputId": "9c98aa5d-5844-4672-969e-d1e403e23053"
   },
   "outputs": [
    {
     "data": {
      "image/png": "[encoded data removed]",
      "text/plain": [
       "<Figure size 1440x288 with 10 Axes>"
      ]
     },
     "metadata": {
      "needs_background": "light"
     },
     "output_type": "display_data"
    }
   ],
   "source": [
    "\n",
    "plt.figure(figsize=(20,4))\n",
    "for i in range(10):\n",
    "    plt.subplot(2,10,i+1)\n",
    "    plt.imshow(pred[i].reshape(28,28), cmap='Greys_r')    \n",
    "    plt.axis('off')\n",
    "plt.show()"
   ]
  }
 ],
 "metadata": {
  "colab": {
   "provenance": []
  },
  "kernelspec": {
   "display_name": "Python 3 (ipykernel)",
   "language": "python",
   "name": "python3"
  },
  "language_info": {
   "codemirror_mode": {
    "name": "ipython",
    "version": 3
   },
   "file_extension": ".py",
   "mimetype": "text/x-python",
   "name": "python",
   "nbconvert_exporter": "python",
   "pygments_lexer": "ipython3",
   "version": "3.9.13"
  }
 },
 "nbformat": 4,
 "nbformat_minor": 1
}
